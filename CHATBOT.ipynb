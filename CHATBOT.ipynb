{
  "nbformat": 4,
  "nbformat_minor": 0,
  "metadata": {
    "colab": {
      "provenance": [],
      "authorship_tag": "ABX9TyMI4FKRGR9MPFx933HJmNjI",
      "include_colab_link": true
    },
    "kernelspec": {
      "name": "python3",
      "display_name": "Python 3"
    },
    "language_info": {
      "name": "python"
    }
  },
  "cells": [
    {
      "cell_type": "markdown",
      "metadata": {
        "id": "view-in-github",
        "colab_type": "text"
      },
      "source": [
        "<a href=\"https://colab.research.google.com/github/shahd1995913/imgdes/blob/main/CHATBOT.ipynb\" target=\"_parent\"><img src=\"https://colab.research.google.com/assets/colab-badge.svg\" alt=\"Open In Colab\"/></a>"
      ]
    },
    {
      "cell_type": "code",
      "source": [
        "import pandas as pd\n",
        "from sklearn.model_selection import train_test_split\n",
        "from sklearn.feature_extraction.text import TfidfVectorizer\n",
        "from sklearn.svm import SVC\n",
        "from sklearn.metrics import accuracy_score\n",
        "\n",
        "# Sample data\n",
        "diseases_data = [\n",
        "    {\n",
        "        \"disease_name\": \"Downy Mildew\",\n",
        "        \"description\": \"Downy Mildew is the most common crop disease. It differs from powdery mildew, presenting as pale green or yellow spots on the upper surfaces of older leaves. The fungus produces a white to grayish material on the lower surfaces, thriving in cool, humid environments.\",\n",
        "        \"treatment\": \"To control Downy Mildew, ensure leaves stay dry by minimizing moisture on the leaves. Clean around plants in the fall to remove dead plant waste, preventing disease survival over winter.\"\n",
        "    },\n",
        "    {\n",
        "        \"disease_name\": \"Black Spots\",\n",
        "        \"description\": \"Black Spots primarily affect roses, forming black circular dots on the tops of leaves. Lower leaves are often affected first, turning yellow and falling off in heavy infestations. The disease thrives in wet weather or when leaves remain wet for extended periods.\",\n",
        "        \"treatment\": \"Prevent Black Spots by planting in well-draining soil and providing regular organic fertilizer. Remove dead leaves and infected sticks, and disinfect pruning shears after each use.\"\n",
        "    },\n",
        "    {\n",
        "        \"disease_name\": \"Powdery Mildew\",\n",
        "        \"description\": \"Powdery Mildew affects leaves, stems, and flowers, leaving a dusty white coating. It occurs in plants like lilacs, apples, grapes, and cucumbers, thriving in conditions of low soil moisture with high moisture content on plant surfaces.\",\n",
        "        \"treatment\": \"Control Powdery Mildew by raking and destroying contaminated leaves to stop spore spread. Ensure proper drainage and air circulation. Avoid nighttime watering, opting for midday watering to allow leaves to dry before evening.\"\n",
        "    },\n",
        "    {\n",
        "        \"disease_name\": \"Mosaic Virus\",\n",
        "        \"description\": \"Mosaic viruses, such as tomato mosaic virus and tobacco mosaic virus, infect tomatoes, peppers, potatoes, apples, and other plants. Symptoms include yellowing, stunted growth, fruit deformation, and reduced production.\",\n",
        "        \"treatment\": \"No chemical control exists, but resistant varieties are available. Remove and destroy infected plants and avoid planting susceptible plants in the same area for two years. Practice thorough handwashing if handling tobacco.\"\n",
        "    },\n",
        "    {\n",
        "        \"disease_name\": \"Blight\",\n",
        "        \"description\": \"Blight is a widespread crop disease affecting various plants, including tomatoes and potatoes. It spreads through wind-borne spores in hot, humid conditions. There is no cure, and prevention is crucial.\",\n",
        "        \"treatment\": \"Prevent Blight by choosing early potato varieties and maintaining proper garden hygiene. Discard any plant components contaminated with blight, and do not compost them. Resistant varieties like Sarpo Mira and Sarpo Axona can be used.\"\n",
        "    }\n",
        "]\n",
        "\n",
        "\n",
        "# Create a DataFrame from the sample data\n",
        "df = pd.DataFrame(diseases_data)\n",
        "\n",
        "# Preprocess text\n",
        "df['processed_text'] = df['description'].str.lower()\n",
        "\n",
        "# Split data into train and test sets\n",
        "train_df, test_df = train_test_split(df, test_size=0.2, random_state=42)\n",
        "\n",
        "# Create TF-IDF vectors\n",
        "vectorizer = TfidfVectorizer()\n",
        "X_train = vectorizer.fit_transform(train_df['processed_text'])\n",
        "X_test = vectorizer.transform(test_df['processed_text'])\n",
        "\n",
        "# Train a simple Support Vector Machine (SVM) classifier\n",
        "svm_classifier = SVC(kernel='linear')\n",
        "svm_classifier.fit(X_train, train_df['disease_name'])\n",
        "\n",
        "# Evaluate the classifier\n",
        "predictions = svm_classifier.predict(X_test)\n",
        "accuracy = accuracy_score(test_df['disease_name'], predictions)\n",
        "print(f'Accuracy: {accuracy}')\n",
        "\n",
        "# Function to get chatbot response\n",
        "def chatbot(user_input):\n",
        "    # Preprocess user input\n",
        "    processed_input = user_input.lower()\n",
        "\n",
        "    # Vectorize user input\n",
        "    input_vector = vectorizer.transform([processed_input])\n",
        "\n",
        "    # Predict disease using the trained SVM classifier\n",
        "    predicted_disease = svm_classifier.predict(input_vector)[0]\n",
        "\n",
        "    # Get treatment information based on the predicted disease\n",
        "    treatment_info = df.loc[df['disease_name'] == predicted_disease, 'treatment'].values[0] if predicted_disease in df['disease_name'].values else \"No specific treatment information available.\"\n",
        "\n",
        "    response = {\n",
        "        'predicted_disease': predicted_disease,\n",
        "        'treatment_info': treatment_info\n",
        "    }\n",
        "\n",
        "    return response\n",
        "\n",
        "# Example usage\n",
        "user_input = \"I have yellow spots on my plant leaves. What could be the issue?\"\n",
        "response = chatbot(user_input)\n",
        "\n",
        "# Print predicted disease and its description\n",
        "predicted_disease = response['predicted_disease']\n",
        "treatment_info = response['treatment_info']\n",
        "\n",
        "print(f'Predicted Disease: {predicted_disease}')\n",
        "print(f'Treatment Information: {treatment_info}')\n",
        "\n"
      ],
      "metadata": {
        "colab": {
          "base_uri": "https://localhost:8080/"
        },
        "id": "W-lfDNwc9mIJ",
        "outputId": "a0e3e5ee-3870-44aa-b346-ba97983ad63f"
      },
      "execution_count": 18,
      "outputs": [
        {
          "output_type": "stream",
          "name": "stdout",
          "text": [
            "Accuracy: 0.0\n",
            "Predicted Disease: Downy Mildew\n",
            "Treatment Information: To control Downy Mildew, ensure leaves stay dry by minimizing moisture on the leaves. Clean around plants in the fall to remove dead plant waste, preventing disease survival over winter.\n"
          ]
        }
      ]
    },
    {
      "cell_type": "code",
      "source": [
        "from sklearn.metrics import confusion_matrix, classification_report\n",
        "\n",
        "# ... (previous code)\n",
        "\n",
        "# Evaluate the classifier\n",
        "predictions = svm_classifier.predict(X_test)\n",
        "accuracy = accuracy_score(test_df['disease_name'], predictions)\n",
        "print(f'Accuracy: {accuracy}')\n",
        "\n",
        "# Confusion Matrix\n",
        "conf_matrix = confusion_matrix(test_df['disease_name'], predictions)\n",
        "print('\\nConfusion Matrix:')\n",
        "print(conf_matrix)\n",
        "\n",
        "# Classification Report\n",
        "class_report = classification_report(test_df['disease_name'], predictions)\n",
        "print('\\nClassification Report:')\n",
        "print(class_report)\n",
        "\n",
        "# ... (rest of the code)\n"
      ],
      "metadata": {
        "colab": {
          "base_uri": "https://localhost:8080/"
        },
        "id": "eRiTAB4u-_Wp",
        "outputId": "58786681-6766-4cff-963c-67d9eec0b30a"
      },
      "execution_count": 17,
      "outputs": [
        {
          "output_type": "stream",
          "name": "stdout",
          "text": [
            "Accuracy: 0.0\n",
            "\n",
            "Confusion Matrix:\n",
            "[[0 1]\n",
            " [0 0]]\n",
            "\n",
            "Classification Report:\n",
            "              precision    recall  f1-score   support\n",
            "\n",
            " Black Spots       0.00      0.00      0.00       1.0\n",
            "Downy Mildew       0.00      0.00      0.00       0.0\n",
            "\n",
            "    accuracy                           0.00       1.0\n",
            "   macro avg       0.00      0.00      0.00       1.0\n",
            "weighted avg       0.00      0.00      0.00       1.0\n",
            "\n"
          ]
        },
        {
          "output_type": "stream",
          "name": "stderr",
          "text": [
            "/usr/local/lib/python3.10/dist-packages/sklearn/metrics/_classification.py:1344: UndefinedMetricWarning: Precision and F-score are ill-defined and being set to 0.0 in labels with no predicted samples. Use `zero_division` parameter to control this behavior.\n",
            "  _warn_prf(average, modifier, msg_start, len(result))\n",
            "/usr/local/lib/python3.10/dist-packages/sklearn/metrics/_classification.py:1344: UndefinedMetricWarning: Recall and F-score are ill-defined and being set to 0.0 in labels with no true samples. Use `zero_division` parameter to control this behavior.\n",
            "  _warn_prf(average, modifier, msg_start, len(result))\n",
            "/usr/local/lib/python3.10/dist-packages/sklearn/metrics/_classification.py:1344: UndefinedMetricWarning: Precision and F-score are ill-defined and being set to 0.0 in labels with no predicted samples. Use `zero_division` parameter to control this behavior.\n",
            "  _warn_prf(average, modifier, msg_start, len(result))\n",
            "/usr/local/lib/python3.10/dist-packages/sklearn/metrics/_classification.py:1344: UndefinedMetricWarning: Recall and F-score are ill-defined and being set to 0.0 in labels with no true samples. Use `zero_division` parameter to control this behavior.\n",
            "  _warn_prf(average, modifier, msg_start, len(result))\n",
            "/usr/local/lib/python3.10/dist-packages/sklearn/metrics/_classification.py:1344: UndefinedMetricWarning: Precision and F-score are ill-defined and being set to 0.0 in labels with no predicted samples. Use `zero_division` parameter to control this behavior.\n",
            "  _warn_prf(average, modifier, msg_start, len(result))\n",
            "/usr/local/lib/python3.10/dist-packages/sklearn/metrics/_classification.py:1344: UndefinedMetricWarning: Recall and F-score are ill-defined and being set to 0.0 in labels with no true samples. Use `zero_division` parameter to control this behavior.\n",
            "  _warn_prf(average, modifier, msg_start, len(result))\n"
          ]
        }
      ]
    }
  ]
}